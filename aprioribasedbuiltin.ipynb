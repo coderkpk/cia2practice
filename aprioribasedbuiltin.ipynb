{
 "cells": [
  {
   "cell_type": "code",
   "execution_count": 7,
   "id": "95797c34-de97-4387-9a9d-f665fd860023",
   "metadata": {},
   "outputs": [
    {
     "name": "stdout",
     "output_type": "stream",
     "text": [
      "Requirement already satisfied: networkx in c:\\users\\prasa\\appdata\\local\\programs\\python\\python312\\lib\\site-packages (3.4.1)\n",
      "Note: you may need to restart the kernel to use updated packages.\n"
     ]
    }
   ],
   "source": [
    "pip install networkx"
   ]
  },
  {
   "cell_type": "code",
   "execution_count": 8,
   "id": "076d1530-59cc-4dd4-9e54-ead8bcdeeea0",
   "metadata": {},
   "outputs": [
    {
     "name": "stdout",
     "output_type": "stream",
     "text": [
      "Frequent Subgraphs of size 2:\n",
      "Subgraph (1, 2), Support: 9\n",
      "Subgraph (1, 3), Support: 9\n",
      "Subgraph (1, 4), Support: 9\n",
      "Subgraph (2, 3), Support: 9\n",
      "Subgraph (2, 4), Support: 9\n",
      "Subgraph (3, 4), Support: 9\n",
      "Subgraph (1, 5), Support: 6\n",
      "Subgraph (2, 5), Support: 6\n",
      "Subgraph (3, 5), Support: 6\n",
      "Subgraph (4, 5), Support: 6\n",
      "Subgraph (1, 6), Support: 3\n",
      "Subgraph (2, 6), Support: 3\n",
      "Subgraph (3, 6), Support: 3\n",
      "Subgraph (4, 6), Support: 3\n",
      "Subgraph (5, 6), Support: 3\n",
      "Frequent Subgraphs of size 3:\n",
      "Subgraph (1, 2, 3), Support: 7\n",
      "Subgraph (1, 2, 4), Support: 9\n",
      "Subgraph (1, 3, 4), Support: 9\n",
      "Subgraph (2, 3, 4), Support: 9\n",
      "Subgraph (1, 2, 5), Support: 6\n",
      "Subgraph (1, 3, 5), Support: 6\n",
      "Subgraph (1, 4, 5), Support: 6\n",
      "Subgraph (2, 3, 5), Support: 4\n",
      "Subgraph (2, 4, 5), Support: 6\n",
      "Subgraph (3, 4, 5), Support: 6\n",
      "Subgraph (1, 2, 6), Support: 3\n",
      "Subgraph (1, 3, 6), Support: 3\n",
      "Subgraph (1, 4, 6), Support: 2\n",
      "Subgraph (1, 5, 6), Support: 3\n",
      "Subgraph (2, 3, 6), Support: 2\n",
      "Subgraph (2, 4, 6), Support: 2\n",
      "Subgraph (2, 5, 6), Support: 3\n",
      "Subgraph (3, 4, 6), Support: 3\n",
      "Subgraph (3, 5, 6), Support: 3\n",
      "Subgraph (4, 5, 6), Support: 3\n",
      "Frequent Subgraphs of size 4:\n",
      "Subgraph (1, 2, 3, 4), Support: 5\n",
      "Subgraph (1, 2, 3, 5), Support: 4\n",
      "Subgraph (1, 2, 4, 5), Support: 4\n",
      "Subgraph (1, 3, 4, 5), Support: 4\n",
      "Subgraph (2, 3, 4, 5), Support: 4\n",
      "Subgraph (1, 2, 3, 6), Support: 2\n",
      "Subgraph (1, 2, 5, 6), Support: 2\n",
      "Subgraph (1, 3, 4, 6), Support: 2\n",
      "Subgraph (1, 3, 5, 6), Support: 2\n",
      "Subgraph (1, 4, 5, 6), Support: 2\n",
      "Subgraph (2, 4, 5, 6), Support: 2\n",
      "Subgraph (3, 4, 5, 6), Support: 2\n",
      "Frequent Subgraphs of size 5:\n",
      "Subgraph (1, 2, 3, 4, 5), Support: 4\n",
      "Subgraph (1, 3, 4, 5, 6), Support: 2\n"
     ]
    }
   ],
   "source": [
    "import networkx as nx\n",
    "from collections import defaultdict\n",
    "from itertools import combinations\n",
    "\n",
    "def create_graph_dataset():\n",
    "    G1 = nx.Graph()\n",
    "    G1.add_edges_from([(1, 2), (1, 3), (2, 3), (2, 4)])\n",
    "    G2 = nx.Graph()\n",
    "    G2.add_edges_from([(1, 2), (1, 3), (2, 4), (4, 5)])\n",
    "    G3 = nx.Graph()\n",
    "    G3.add_edges_from([(1, 2), (1, 3), (3, 4), (4, 5), (5, 6)])\n",
    "    return [G1, G2, G3]\n",
    "\n",
    "def is_subgraph_isomorphic(G, H):\n",
    "    GM = nx.algorithms.isomorphism.GraphMatcher(G, H)\n",
    "    return GM.subgraph_is_isomorphic()\n",
    "\n",
    "def find_candidate_subgraphs(graphs, k):\n",
    "    candidates = defaultdict(int)\n",
    "    for G in graphs:\n",
    "        nodes = list(G.nodes())\n",
    "        for comb in combinations(nodes, k):\n",
    "            subgraph = G.subgraph(comb)\n",
    "            for graph in graphs:\n",
    "                if is_subgraph_isomorphic(graph, subgraph):\n",
    "                    candidates[tuple(sorted(comb))] += 1\n",
    "    return candidates\n",
    "\n",
    "def apriori_mining(graphs, min_support=2):\n",
    "    frequent_subgraphs = []\n",
    "    k = 2\n",
    "    while True:\n",
    "        candidates = find_candidate_subgraphs(graphs, k)\n",
    "        frequent = {subgraph: support for subgraph,\n",
    "                    support in candidates.items() if support >= min_support}\n",
    "        if not frequent:\n",
    "            break\n",
    "        frequent_subgraphs.append(frequent)\n",
    "        k += 1\n",
    "    return frequent_subgraphs\n",
    "\n",
    "if __name__ == \"__main__\":\n",
    "    graphs = create_graph_dataset()\n",
    "    frequent_subgraphs = apriori_mining(graphs, min_support=2)\n",
    "    for level, subgraphs in enumerate(frequent_subgraphs):\n",
    "        print(f\"Frequent Subgraphs of size {level + 2}:\")\n",
    "        for subgraph, support in subgraphs.items():\n",
    "            print(f\"Subgraph {subgraph}, Support: {support}\")"
   ]
  }
 ],
 "metadata": {
  "kernelspec": {
   "display_name": "Python 3 (ipykernel)",
   "language": "python",
   "name": "python3"
  },
  "language_info": {
   "codemirror_mode": {
    "name": "ipython",
    "version": 3
   },
   "file_extension": ".py",
   "mimetype": "text/x-python",
   "name": "python",
   "nbconvert_exporter": "python",
   "pygments_lexer": "ipython3",
   "version": "3.12.5"
  }
 },
 "nbformat": 4,
 "nbformat_minor": 5
}
